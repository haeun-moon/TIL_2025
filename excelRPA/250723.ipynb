{
 "cells": [
  {
   "cell_type": "code",
   "execution_count": 1,
   "id": "84215aa5",
   "metadata": {},
   "outputs": [],
   "source": [
    "import openpyxl as op"
   ]
  },
  {
   "cell_type": "code",
   "execution_count": 2,
   "id": "a06182a9",
   "metadata": {},
   "outputs": [],
   "source": [
    "wb = op.load_workbook(\"test002.xlsx\")"
   ]
  },
  {
   "cell_type": "code",
   "execution_count": 3,
   "id": "cfa522d4",
   "metadata": {},
   "outputs": [],
   "source": [
    "ws = wb[\"SheetSheet\"]"
   ]
  },
  {
   "cell_type": "code",
   "execution_count": 5,
   "id": "2fc5aa9e",
   "metadata": {},
   "outputs": [],
   "source": [
    "data001 = ws.cell(1,2).value\n",
    "data002 = ws[\"B1\"].value"
   ]
  },
  {
   "cell_type": "code",
   "execution_count": 6,
   "id": "7101ee93",
   "metadata": {},
   "outputs": [
    {
     "name": "stdout",
     "output_type": "stream",
     "text": [
      "testB\n",
      "testB\n"
     ]
    }
   ],
   "source": [
    "print (data001)\n",
    "print (data002)"
   ]
  },
  {
   "cell_type": "code",
   "execution_count": 7,
   "id": "604118ed",
   "metadata": {},
   "outputs": [
    {
     "name": "stdout",
     "output_type": "stream",
     "text": [
      "<Cell 'SheetSheet'.B1>\n",
      "<Cell 'SheetSheet'.B1>\n"
     ]
    }
   ],
   "source": [
    "data003 = ws.cell(1,2)\n",
    "data004 = ws[\"B1\"]\n",
    "\n",
    "print (data003)\n",
    "print (data004)"
   ]
  },
  {
   "cell_type": "code",
   "execution_count": 9,
   "id": "0a48ad50",
   "metadata": {},
   "outputs": [
    {
     "name": "stdout",
     "output_type": "stream",
     "text": [
      "((<Cell 'SheetSheet'.A1>, <Cell 'SheetSheet'.B1>, <Cell 'SheetSheet'.C1>), (<Cell 'SheetSheet'.A2>, <Cell 'SheetSheet'.B2>, <Cell 'SheetSheet'.C2>), (<Cell 'SheetSheet'.A3>, <Cell 'SheetSheet'.B3>, <Cell 'SheetSheet'.C3>))\n"
     ]
    }
   ],
   "source": [
    "rng = ws[\"A1:C3\"]\n",
    "print (rng)"
   ]
  },
  {
   "cell_type": "code",
   "execution_count": 11,
   "id": "a260ca29",
   "metadata": {},
   "outputs": [
    {
     "name": "stdout",
     "output_type": "stream",
     "text": [
      "(<Cell 'SheetSheet'.A1>, <Cell 'SheetSheet'.B1>, <Cell 'SheetSheet'.C1>)\n",
      "<Cell 'SheetSheet'.A1>\n",
      "안\n",
      "<Cell 'SheetSheet'.B1>\n",
      "testB\n",
      "<Cell 'SheetSheet'.C1>\n",
      "6\n",
      "(<Cell 'SheetSheet'.A2>, <Cell 'SheetSheet'.B2>, <Cell 'SheetSheet'.C2>)\n",
      "<Cell 'SheetSheet'.A2>\n",
      "녕\n",
      "<Cell 'SheetSheet'.B2>\n",
      "5\n",
      "<Cell 'SheetSheet'.C2>\n",
      "6\n",
      "(<Cell 'SheetSheet'.A3>, <Cell 'SheetSheet'.B3>, <Cell 'SheetSheet'.C3>)\n",
      "<Cell 'SheetSheet'.A3>\n",
      "하\n",
      "<Cell 'SheetSheet'.B3>\n",
      "5\n",
      "<Cell 'SheetSheet'.C3>\n",
      "6\n"
     ]
    }
   ],
   "source": [
    "for rng_data in rng:\n",
    "    print (rng_data)\n",
    "\n",
    "    for cell_data in rng_data:\n",
    "        print (cell_data)\n",
    "        print (cell_data.value)"
   ]
  },
  {
   "cell_type": "code",
   "execution_count": 13,
   "id": "57ef5034",
   "metadata": {},
   "outputs": [],
   "source": [
    "ws.cell(1,2).value = \"히히\"\n",
    "ws[\"C1\"].value = \"바보\"\n",
    "\n",
    "wb.save(\"test002.xlsx\")"
   ]
  },
  {
   "cell_type": "code",
   "execution_count": 14,
   "id": "4d2d3ac9",
   "metadata": {},
   "outputs": [
    {
     "name": "stdout",
     "output_type": "stream",
     "text": [
      "<Worksheet \"SheetSheet\">\n"
     ]
    }
   ],
   "source": [
    "print (ws)"
   ]
  },
  {
   "cell_type": "code",
   "execution_count": 18,
   "id": "995df7f9",
   "metadata": {},
   "outputs": [
    {
     "name": "stdout",
     "output_type": "stream",
     "text": [
      "<Worksheet \"Sheet31\">\n"
     ]
    }
   ],
   "source": [
    "ws = wb.create_sheet(\"Sheet3\")\n",
    "print (ws)\n",
    "wb.save(\"test002.xlsx\")"
   ]
  },
  {
   "cell_type": "code",
   "execution_count": 20,
   "id": "a9d4e81c",
   "metadata": {},
   "outputs": [],
   "source": [
    "wb.remove(wb[\"Sheet31\"])\n",
    "wb.save(\"test002.xlsx\")"
   ]
  },
  {
   "cell_type": "code",
   "execution_count": 23,
   "id": "b7f01f15",
   "metadata": {},
   "outputs": [],
   "source": [
    "ws = wb[\"Sheet3\"]\n",
    "\n",
    "dataList = [1,2,3,4,5,6,7,8,9]\n",
    "\n",
    "i = 1\n",
    "j = 1\n",
    "\n",
    "for data in dataList:\n",
    "    ws.cell(i,j).value = data\n",
    "    i = i+1\n",
    "    j = j+1\n",
    "\n",
    "wb.save(\"test002.xlsx\")"
   ]
  },
  {
   "cell_type": "code",
   "execution_count": null,
   "id": "9db1048c",
   "metadata": {},
   "outputs": [
    {
     "ename": "TypeError",
     "evalue": "unsupported operand type(s) for %: 'NoneType' and 'int'",
     "output_type": "error",
     "traceback": [
      "\u001b[31m---------------------------------------------------------------------------\u001b[39m",
      "\u001b[31mTypeError\u001b[39m                                 Traceback (most recent call last)",
      "\u001b[36mCell\u001b[39m\u001b[36m \u001b[39m\u001b[32mIn[26]\u001b[39m\u001b[32m, line 7\u001b[39m\n\u001b[32m      5\u001b[39m         \u001b[38;5;28;01mif\u001b[39;00m data.value == \u001b[33m\"\u001b[39m\u001b[33m\"\u001b[39m:\n\u001b[32m      6\u001b[39m             \u001b[38;5;28;01mpass\u001b[39;00m\n\u001b[32m----> \u001b[39m\u001b[32m7\u001b[39m         \u001b[38;5;28;01melif\u001b[39;00m (\u001b[43mdata\u001b[49m\u001b[43m.\u001b[49m\u001b[43mvalue\u001b[49m\u001b[43m \u001b[49m\u001b[43m%\u001b[49m\u001b[43m \u001b[49m\u001b[32;43m2\u001b[39;49m) == \u001b[32m0\u001b[39m:\n\u001b[32m      8\u001b[39m             data.value = \u001b[33m\"\u001b[39m\u001b[33m\"\u001b[39m\n\u001b[32m     10\u001b[39m wb.save(\u001b[33m\"\u001b[39m\u001b[33mtest002.xlsx\u001b[39m\u001b[33m\"\u001b[39m)\n",
      "\u001b[31mTypeError\u001b[39m: unsupported operand type(s) for %: 'NoneType' and 'int'"
     ]
    }
   ],
   "source": [
    "rng = ws[\"A1:I9\"]\n",
    "\n",
    "for row_data in rng:\n",
    "    for data in row_data:\n",
    "        if data.value == \"\":\n",
    "            pass\n",
    "        elif (data.value % 2) == 0:\n",
    "            data.value = \"\"\n",
    "\n",
    "wb.save(\"test002.xlsx\")"
   ]
  },
  {
   "cell_type": "code",
   "execution_count": null,
   "id": "511a3078",
   "metadata": {},
   "outputs": [],
   "source": []
  }
 ],
 "metadata": {
  "kernelspec": {
   "display_name": "Python 3",
   "language": "python",
   "name": "python3"
  },
  "language_info": {
   "codemirror_mode": {
    "name": "ipython",
    "version": 3
   },
   "file_extension": ".py",
   "mimetype": "text/x-python",
   "name": "python",
   "nbconvert_exporter": "python",
   "pygments_lexer": "ipython3",
   "version": "3.13.5"
  }
 },
 "nbformat": 4,
 "nbformat_minor": 5
}
