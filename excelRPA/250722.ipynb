{
 "cells": [
  {
   "cell_type": "code",
   "execution_count": 1,
   "id": "0f021b5c",
   "metadata": {},
   "outputs": [],
   "source": [
    "import openpyxl as op\n",
    "wb = op.Workbook()\n",
    "ws = wb.create_sheet(\"new_sheet001\")"
   ]
  },
  {
   "cell_type": "code",
   "execution_count": 2,
   "id": "7980dc2d",
   "metadata": {},
   "outputs": [
    {
     "name": "stdout",
     "output_type": "stream",
     "text": [
      "<Worksheet \"new_sheet001\">\n"
     ]
    }
   ],
   "source": [
    "print(ws)"
   ]
  },
  {
   "cell_type": "code",
   "execution_count": 3,
   "id": "7cfa0bdd",
   "metadata": {},
   "outputs": [],
   "source": [
    "wb.save(\"test002.xlsx\")"
   ]
  },
  {
   "cell_type": "code",
   "execution_count": 4,
   "id": "083d1083",
   "metadata": {},
   "outputs": [
    {
     "name": "stdout",
     "output_type": "stream",
     "text": [
      "<Worksheet \"Sheet\">\n"
     ]
    }
   ],
   "source": [
    "ws = wb.active\n",
    "print(ws)"
   ]
  },
  {
   "cell_type": "code",
   "execution_count": 5,
   "id": "5f2deda0",
   "metadata": {},
   "outputs": [
    {
     "name": "stdout",
     "output_type": "stream",
     "text": [
      "<Worksheet \"new_sheet001\">\n"
     ]
    }
   ],
   "source": [
    "ws = wb[\"new_sheet001\"]\n",
    "print(ws)"
   ]
  },
  {
   "cell_type": "code",
   "execution_count": 7,
   "id": "6472b9d6",
   "metadata": {},
   "outputs": [
    {
     "name": "stdout",
     "output_type": "stream",
     "text": [
      "['Sheet', 'new_sheet001']\n"
     ]
    }
   ],
   "source": [
    "ws_list = wb.sheetnames\n",
    "print(ws_list)"
   ]
  },
  {
   "cell_type": "code",
   "execution_count": 9,
   "id": "50ff674a",
   "metadata": {},
   "outputs": [
    {
     "name": "stdout",
     "output_type": "stream",
     "text": [
      "<Worksheet \"Sheet\">\n",
      "<Worksheet \"new_sheet001\">\n"
     ]
    }
   ],
   "source": [
    "for sht in ws_list:\n",
    "    ws = wb[sht]\n",
    "    print(ws)"
   ]
  },
  {
   "cell_type": "code",
   "execution_count": 10,
   "id": "b2563477",
   "metadata": {},
   "outputs": [
    {
     "name": "stdout",
     "output_type": "stream",
     "text": [
      "<Worksheet \"new_sheet001\">\n"
     ]
    }
   ],
   "source": [
    "print (ws)"
   ]
  },
  {
   "cell_type": "code",
   "execution_count": 11,
   "id": "7b0bdb1d",
   "metadata": {},
   "outputs": [
    {
     "name": "stdout",
     "output_type": "stream",
     "text": [
      "SheetSheet\n"
     ]
    }
   ],
   "source": [
    "ws = \"SheetSheet\"\n",
    "print (ws)"
   ]
  },
  {
   "cell_type": "code",
   "execution_count": 14,
   "id": "380d8016",
   "metadata": {},
   "outputs": [
    {
     "ename": "AttributeError",
     "evalue": "'str' object attribute 'title' is read-only",
     "output_type": "error",
     "traceback": [
      "\u001b[31m---------------------------------------------------------------------------\u001b[39m",
      "\u001b[31mAttributeError\u001b[39m                            Traceback (most recent call last)",
      "\u001b[36mCell\u001b[39m\u001b[36m \u001b[39m\u001b[32mIn[14]\u001b[39m\u001b[32m, line 1\u001b[39m\n\u001b[32m----> \u001b[39m\u001b[32m1\u001b[39m \u001b[43mws\u001b[49m\u001b[43m.\u001b[49m\u001b[43mtitle\u001b[49m = \u001b[33m\"\u001b[39m\u001b[33mSheetSheet\u001b[39m\u001b[33m\"\u001b[39m\n\u001b[32m      2\u001b[39m wb.save(\u001b[33m\"\u001b[39m\u001b[33mtest002\u001b[39m\u001b[33m\"\u001b[39m)\n",
      "\u001b[31mAttributeError\u001b[39m: 'str' object attribute 'title' is read-only"
     ]
    }
   ],
   "source": [
    "ws.title = \"SheetSheet\"\n",
    "wb.save(\"test002\")"
   ]
  },
  {
   "cell_type": "code",
   "execution_count": 15,
   "id": "c5332d3b",
   "metadata": {},
   "outputs": [
    {
     "name": "stdout",
     "output_type": "stream",
     "text": [
      "<openpyxl.workbook.workbook.Workbook object at 0x000002E3D6A75E80>\n"
     ]
    }
   ],
   "source": [
    "print (wb)"
   ]
  },
  {
   "cell_type": "code",
   "execution_count": 16,
   "id": "3fb9a3fa",
   "metadata": {},
   "outputs": [],
   "source": [
    "ws = wb[\"new_sheet001\"]"
   ]
  },
  {
   "cell_type": "code",
   "execution_count": 17,
   "id": "95b87ad7",
   "metadata": {},
   "outputs": [
    {
     "name": "stdout",
     "output_type": "stream",
     "text": [
      "<Worksheet \"SheetSheet\">\n"
     ]
    }
   ],
   "source": [
    "ws.title = \"SheetSheet\"\n",
    "wb.save(\"test002.xlsx\")\n",
    "\n",
    "print (ws)"
   ]
  },
  {
   "cell_type": "code",
   "execution_count": 19,
   "id": "af927913",
   "metadata": {},
   "outputs": [
    {
     "name": "stdout",
     "output_type": "stream",
     "text": [
      "None\n",
      "None\n"
     ]
    }
   ],
   "source": [
    "data001 = ws.cell(row=2, column=3).value\n",
    "data002 = ws[\"A28\"].value\n",
    "\n",
    "print(data001)\n",
    "print(data002)"
   ]
  },
  {
   "cell_type": "code",
   "execution_count": 22,
   "id": "b722269f",
   "metadata": {},
   "outputs": [],
   "source": [
    "wb = op.load_workbook(\"test002.xlsx\")"
   ]
  },
  {
   "cell_type": "code",
   "execution_count": 23,
   "id": "2808f07b",
   "metadata": {},
   "outputs": [
    {
     "name": "stdout",
     "output_type": "stream",
     "text": [
      "<Worksheet \"SheetSheet\">\n"
     ]
    }
   ],
   "source": [
    "ws = wb[\"SheetSheet\"]\n",
    "print(ws)"
   ]
  },
  {
   "cell_type": "code",
   "execution_count": 24,
   "id": "df4cf3be",
   "metadata": {},
   "outputs": [
    {
     "name": "stdout",
     "output_type": "stream",
     "text": [
      "6\n",
      "4\n"
     ]
    }
   ],
   "source": [
    "data001 = ws.cell(row=2, column=3).value\n",
    "data002 = ws[\"A28\"].value\n",
    "\n",
    "print(data001)\n",
    "print(data002)"
   ]
  },
  {
   "cell_type": "code",
   "execution_count": 26,
   "id": "116cd3a0",
   "metadata": {},
   "outputs": [],
   "source": [
    "ws.cell(row=1, column=1).value = \"testA\"\n",
    "ws[\"B1\"].value = \"testB\"\n",
    "\n",
    "wb.save(\"test002.xlsx\")"
   ]
  },
  {
   "cell_type": "code",
   "execution_count": 27,
   "id": "1fdffd6b",
   "metadata": {},
   "outputs": [],
   "source": [
    "dataList = [\"안\",\"녕\",\"하\",\"세\",\"요\"]\n",
    "\n",
    "i = 1\n",
    "\n",
    "for data in dataList:\n",
    "    ws.cell(row=i,column=1).value = data\n",
    "    i = i + 1"
   ]
  },
  {
   "cell_type": "code",
   "execution_count": 28,
   "id": "fb2b21d9",
   "metadata": {},
   "outputs": [],
   "source": [
    "wb.save(\"test002.xlsx\")"
   ]
  },
  {
   "cell_type": "code",
   "execution_count": null,
   "id": "3ea148bd",
   "metadata": {},
   "outputs": [],
   "source": []
  }
 ],
 "metadata": {
  "kernelspec": {
   "display_name": "Python 3",
   "language": "python",
   "name": "python3"
  },
  "language_info": {
   "codemirror_mode": {
    "name": "ipython",
    "version": 3
   },
   "file_extension": ".py",
   "mimetype": "text/x-python",
   "name": "python",
   "nbconvert_exporter": "python",
   "pygments_lexer": "ipython3",
   "version": "3.13.5"
  }
 },
 "nbformat": 4,
 "nbformat_minor": 5
}
